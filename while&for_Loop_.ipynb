{
  "nbformat": 4,
  "nbformat_minor": 0,
  "metadata": {
    "colab": {
      "provenance": [],
      "authorship_tag": "ABX9TyNUnes5htPpwQLOrEGs7QiZ",
      "include_colab_link": true
    },
    "kernelspec": {
      "name": "python3",
      "display_name": "Python 3"
    },
    "language_info": {
      "name": "python"
    }
  },
  "cells": [
    {
      "cell_type": "markdown",
      "metadata": {
        "id": "view-in-github",
        "colab_type": "text"
      },
      "source": [
        "<a href=\"https://colab.research.google.com/github/MajedAlharthi/Learning-Python-SATR/blob/main/while%26for_Loop_.ipynb\" target=\"_parent\"><img src=\"https://colab.research.google.com/assets/colab-badge.svg\" alt=\"Open In Colab\"/></a>"
      ]
    },
    {
      "cell_type": "code",
      "execution_count": 2,
      "metadata": {
        "colab": {
          "base_uri": "https://localhost:8080/"
        },
        "id": "qA3q8wm0ynnC",
        "outputId": "5ef28a31-9154-4e4c-bcd3-15b3ea30bca0"
      },
      "outputs": [
        {
          "output_type": "stream",
          "name": "stdout",
          "text": [
            "Majed\n",
            "Mohammed\n",
            "Yousef\n",
            "Seraj\n"
          ]
        }
      ],
      "source": [
        "# طريقة استخدام foor loop لتكرار الامر البرمجي اللي هو طباعة اسماء الطلاب الموجودين بالقائمة\n",
        "students = [\"Majed\",\"Mohammed\",\"Yousef\",\"Seraj\"]\n",
        "for s in students:         # سميت متغير اللي هو s\n",
        "  print(s)"
      ]
    },
    {
      "cell_type": "code",
      "source": [
        "# طريقة استخدام اللوب for in range (يستخدم لطباعةالنطاقات)\n",
        "# مثال لطباعة الارقام من 0 الى 10\n",
        "for n in range(11):              # حرف n هو مجرد متغير اقدر استبدله بأي شيء\n",
        "  print(n)"
      ],
      "metadata": {
        "colab": {
          "base_uri": "https://localhost:8080/"
        },
        "id": "PzJupGc1047J",
        "outputId": "6ec44147-cbeb-4f38-ba37-5064ed995677"
      },
      "execution_count": 3,
      "outputs": [
        {
          "output_type": "stream",
          "name": "stdout",
          "text": [
            "0\n",
            "1\n",
            "2\n",
            "3\n",
            "4\n",
            "5\n",
            "6\n",
            "7\n",
            "8\n",
            "9\n",
            "10\n"
          ]
        }
      ]
    },
    {
      "cell_type": "code",
      "source": [
        "for l in \"Welcome to Python\":\n",
        "    print(l)\n",
        "\n",
        "\n",
        "\n",
        "\n",
        "\n"
      ],
      "metadata": {
        "colab": {
          "base_uri": "https://localhost:8080/"
        },
        "id": "yoLG3hTG2K2p",
        "outputId": "25eea5f9-a084-4c39-9c3d-0df2c7da4b8c"
      },
      "execution_count": 16,
      "outputs": [
        {
          "output_type": "stream",
          "name": "stdout",
          "text": [
            "W\n",
            "e\n",
            "l\n",
            "c\n",
            "o\n",
            "m\n",
            "e\n",
            " \n",
            "t\n",
            "o\n",
            " \n",
            "P\n",
            "y\n",
            "t\n",
            "h\n",
            "o\n",
            "n\n"
          ]
        }
      ]
    },
    {
      "cell_type": "code",
      "source": [
        "i = 1\n",
        "while i <= 5:\n",
        "    print(i)\n",
        "    i += 2"
      ],
      "metadata": {
        "colab": {
          "base_uri": "https://localhost:8080/"
        },
        "id": "siwQENE130Ti",
        "outputId": "53c24e2c-0ac7-42aa-f5a9-00eddcb55c31"
      },
      "execution_count": 17,
      "outputs": [
        {
          "output_type": "stream",
          "name": "stdout",
          "text": [
            "1\n",
            "3\n",
            "5\n"
          ]
        }
      ]
    },
    {
      "cell_type": "code",
      "source": [
        "i = 1\n",
        "while i <= 10:\n",
        "  print(i)\n",
        "  i +=1"
      ],
      "metadata": {
        "colab": {
          "base_uri": "https://localhost:8080/"
        },
        "id": "vV1oUihJ4Jbf",
        "outputId": "662cd17a-21be-4d0c-85e3-7952d9d10356"
      },
      "execution_count": 19,
      "outputs": [
        {
          "output_type": "stream",
          "name": "stdout",
          "text": [
            "1\n",
            "2\n",
            "3\n",
            "4\n",
            "5\n",
            "6\n",
            "7\n",
            "8\n",
            "9\n",
            "10\n"
          ]
        }
      ]
    }
  ]
}