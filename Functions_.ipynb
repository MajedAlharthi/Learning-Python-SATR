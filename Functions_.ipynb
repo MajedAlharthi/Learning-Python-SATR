{
  "nbformat": 4,
  "nbformat_minor": 0,
  "metadata": {
    "colab": {
      "provenance": [],
      "authorship_tag": "ABX9TyPithr4t6FSEqOqpbIUsKgZ",
      "include_colab_link": true
    },
    "kernelspec": {
      "name": "python3",
      "display_name": "Python 3"
    },
    "language_info": {
      "name": "python"
    }
  },
  "cells": [
    {
      "cell_type": "markdown",
      "metadata": {
        "id": "view-in-github",
        "colab_type": "text"
      },
      "source": [
        "<a href=\"https://colab.research.google.com/github/MajedAlharthi/Learning-Python-SATR/blob/main/Functions_.ipynb\" target=\"_parent\"><img src=\"https://colab.research.google.com/assets/colab-badge.svg\" alt=\"Open In Colab\"/></a>"
      ]
    },
    {
      "cell_type": "code",
      "source": [
        "def print_numbers(to): # عرفت دالة واسميتها برنت نمبرز وحطيت بين قوسين متغير عشان اقدر اضيف فيه الارقام اللي ابيها عند كل مرة استدعي فيها الدالة\n",
        "  for i in range(to): # استخدمت فور ستيتمنت اللي هي تستخد للتكرار عشان يطبع لي الارقام في رنج يعني من رقم كذا لرقم كذا وعرفت حرف آي من عندي ويمدي احط اي شيء بدال الآي\n",
        "    print(i) # هنا قلت اطبع لي الآي في كل لفة\n",
        "\n",
        "print_numbers(2) # استدعيت الدالة وحطيت رقم 2 فالمتغير تو يعني اطبع لي من صفر الى 1\n",
        "print_numbers(4)\n",
        "print_numbers(6)\n"
      ],
      "metadata": {
        "colab": {
          "base_uri": "https://localhost:8080/"
        },
        "id": "_ZLFSaZuMSef",
        "outputId": "25b42481-b4ef-4ba4-b1bc-9c8e7d5aa454"
      },
      "execution_count": 10,
      "outputs": [
        {
          "output_type": "stream",
          "name": "stdout",
          "text": [
            "0\n",
            "1\n",
            "0\n",
            "1\n",
            "2\n",
            "3\n",
            "0\n",
            "1\n",
            "2\n",
            "3\n",
            "4\n",
            "5\n"
          ]
        }
      ]
    },
    {
      "cell_type": "code",
      "source": [
        "# ارجاع قيمة من الدالة Return\n",
        "\n",
        "def add(first_number, second_number):    # فرست نمبر وسكوند تعتبر مدخلات\n",
        "  print(first_number + second_number)\n",
        "\n",
        "add(2 , 7)\n",
        "\n",
        "# طيب الحين ماذا لو مابغيت اطبع النتيجة وكنت ابغى استقبل مخرجات للدالة\n",
        "\n",
        "def add(first_number , second_number):\n",
        "  result = first_number + second_number   #عرفت متغير اسمه رزلت واستقبلت نتيجة عملية الجمع\n",
        "  return result #عشان ترجع لي مخرجات الدالة يعني كأني اقول المخرجات راح تكون رزلت  بمعنى انه ارجع الى مكان الاستدعاء\n",
        "  add"
      ],
      "metadata": {
        "colab": {
          "base_uri": "https://localhost:8080/"
        },
        "id": "SINY6be7TjYh",
        "outputId": "2b992eaf-03c9-4d96-9619-07f1bab62a4a"
      },
      "execution_count": 16,
      "outputs": [
        {
          "output_type": "stream",
          "name": "stdout",
          "text": [
            "9\n"
          ]
        }
      ]
    }
  ]
}